{
  "nbformat": 4,
  "nbformat_minor": 0,
  "metadata": {
    "colab": {
      "provenance": [],
      "include_colab_link": true
    },
    "kernelspec": {
      "name": "python3",
      "display_name": "Python 3"
    },
    "language_info": {
      "name": "python"
    }
  },
  "cells": [
    {
      "cell_type": "markdown",
      "metadata": {
        "id": "view-in-github",
        "colab_type": "text"
      },
      "source": [
        "<a href=\"https://colab.research.google.com/github/Neiouo/Eric/blob/main/%E7%A8%8B%E5%BC%8F%E8%AA%9E%E8%A8%80_%E4%BD%9C%E6%A5%AD%E4%B8%80.ipynb\" target=\"_parent\"><img src=\"https://colab.research.google.com/assets/colab-badge.svg\" alt=\"Open In Colab\"/></a>"
      ]
    },
    {
      "cell_type": "code",
      "source": [
        "!pip install requests"
      ],
      "metadata": {
        "colab": {
          "base_uri": "https://localhost:8080/"
        },
        "collapsed": true,
        "id": "oBXHCDwTdey7",
        "outputId": "441c44aa-5008-4811-9b15-39faba13ccac"
      },
      "execution_count": null,
      "outputs": [
        {
          "output_type": "stream",
          "name": "stdout",
          "text": [
            "Requirement already satisfied: requests in /usr/local/lib/python3.11/dist-packages (2.32.3)\n",
            "Requirement already satisfied: charset-normalizer<4,>=2 in /usr/local/lib/python3.11/dist-packages (from requests) (3.4.1)\n",
            "Requirement already satisfied: idna<4,>=2.5 in /usr/local/lib/python3.11/dist-packages (from requests) (3.10)\n",
            "Requirement already satisfied: urllib3<3,>=1.21.1 in /usr/local/lib/python3.11/dist-packages (from requests) (2.3.0)\n",
            "Requirement already satisfied: certifi>=2017.4.17 in /usr/local/lib/python3.11/dist-packages (from requests) (2025.1.31)\n"
          ]
        }
      ]
    },
    {
      "cell_type": "code",
      "execution_count": null,
      "metadata": {
        "id": "pW--UtRxdT12"
      },
      "outputs": [],
      "source": [
        "from google.colab import auth\n",
        "auth.authenticate_user()\n",
        "\n",
        "import gspread\n",
        "from google.auth import default\n",
        "creds, _ = default()\n",
        "\n",
        "gc = gspread.authorize(creds)\n",
        "import pandas as pd\n",
        "gsheets = gc.open_by_url('https://docs.google.com/spreadsheets/d/1ks57O79IHqgCVQZ2djk7Fy2kY8r7TOY-0EY-3CNgrUM/edit?gid=1874159743#gid=1874159743')\n",
        "\n",
        "from gspread_dataframe import set_with_dataframe\n",
        "worksheet = gsheets.get_worksheet(0)\n",
        "data = worksheet.get_all_values()\n",
        "df = pd.DataFrame(data)\n",
        "df.columns = df.iloc[0]\n",
        "df = df.iloc[1:].reset_index(drop=True)"
      ]
    },
    {
      "cell_type": "code",
      "source": [
        "# 定義一個分析函數\n",
        "def analyze_data(df):\n",
        "    # 範例提示詞: 根據數據的基本統計進行分析\n",
        "    if df.empty:\n",
        "        return \"資料集是空的，無法進行分析。\"\n",
        "\n",
        "    # 顯示數據的基本資訊\n",
        "    info = df.info()\n",
        "\n",
        "    # 計算數據的基本統計量\n",
        "    statistics = df.describe()\n",
        "\n",
        "    # 檢查是否有缺失值\n",
        "    missing_values = df.isnull().sum()\n",
        "\n",
        "    # 確認是否有某個特定的列\n",
        "    if 'target_column' in df.columns:\n",
        "        target_column = df['target_column'].mean()  # 假設分析目標列的平均值\n",
        "    else:\n",
        "        target_column = None\n",
        "\n",
        "    # 遍歷數據框架的每一列並檢查數據類型\n",
        "    for column in df.columns:\n",
        "        column_type = df[column].dtype\n",
        "        print(f\"列: {column} 類型: {column_type}\")\n",
        "\n",
        "    prompt = f\"\"\"\n",
        "    請分析以下數據並以繁體中文回答:\n",
        "    1. 數據框架的基本統計量：\\n{statistics}\n",
        "    2. 每列的缺失值數量：\\n{missing_values}\n",
        "    3. 是否有 'target_column' 列？其平均值為：{target_column}\n",
        "    4. 數據框架的基本結構：\\n{info}\n",
        "    \"\"\"\n",
        "    return prompt\n",
        "\n",
        "analysis_prompt = analyze_data(df)\n",
        "print(analysis_prompt)"
      ],
      "metadata": {
        "colab": {
          "base_uri": "https://localhost:8080/"
        },
        "id": "FgP49TmLqiI6",
        "outputId": "4c555a0e-94c4-4f0c-af94-e4ca91b9ff17"
      },
      "execution_count": null,
      "outputs": [
        {
          "output_type": "stream",
          "name": "stdout",
          "text": [
            "<class 'pandas.core.frame.DataFrame'>\n",
            "RangeIndex: 100 entries, 0 to 99\n",
            "Data columns (total 5 columns):\n",
            " #   Column   Non-Null Count  Dtype \n",
            "---  ------   --------------  ----- \n",
            " 0   遊戲名稱     100 non-null    object\n",
            " 1   原價(美元)   100 non-null    object\n",
            " 2   折扣率(%)   100 non-null    object\n",
            " 3   折後價(美元)  100 non-null    object\n",
            " 4   好評率(%)   100 non-null    object\n",
            "dtypes: object(5)\n",
            "memory usage: 4.0+ KB\n",
            "列: 遊戲名稱 類型: object\n",
            "列: 原價(美元) 類型: object\n",
            "列: 折扣率(%) 類型: object\n",
            "列: 折後價(美元) 類型: object\n",
            "列: 好評率(%) 類型: object\n",
            "\n",
            "    請分析以下數據並以繁體中文回答:\n",
            "    1. 數據框架的基本統計量：\n",
            "0      遊戲名稱 原價(美元) 折扣率(%) 折後價(美元) 好評率(%)\n",
            "count   100    100    100     100    100\n",
            "unique  100     99     10      98     91\n",
            "top     遊戲1  58.76     70   14.11   68.9\n",
            "freq      1      2     16       2      2\n",
            "    2. 每列的缺失值數量：\n",
            "0\n",
            "遊戲名稱       0\n",
            "原價(美元)     0\n",
            "折扣率(%)     0\n",
            "折後價(美元)    0\n",
            "好評率(%)     0\n",
            "dtype: int64\n",
            "    3. 是否有 'target_column' 列？其平均值為：None\n",
            "    4. 數據框架的基本結構：\n",
            "None\n",
            "    \n"
          ]
        }
      ]
    },
    {
      "cell_type": "code",
      "source": [
        "import google.generativeai as genai\n",
        "from google.colab import userdata\n",
        "import random\n",
        "import time\n",
        "import re\n",
        "\n",
        "apikey = userdata.get('Gemini')\n",
        "genai.configure(api_key=apikey)\n",
        "model = genai.GenerativeModel(\"gemini-1.5-flash\")"
      ],
      "metadata": {
        "id": "jRiliMvzqKXm"
      },
      "execution_count": null,
      "outputs": []
    },
    {
      "cell_type": "code",
      "source": [
        "response = model.generate_content(analysis_prompt)\n",
        "respond = response.text.strip()"
      ],
      "metadata": {
        "id": "1NHhk35usL9u"
      },
      "execution_count": null,
      "outputs": []
    },
    {
      "cell_type": "code",
      "source": [
        "from io import StringIO\n",
        "\n",
        "# 轉換為 DataFrame\n",
        "df_all = pd.read_csv(StringIO(response.text))"
      ],
      "metadata": {
        "id": "KKuqACc81Xvm"
      },
      "execution_count": null,
      "outputs": []
    },
    {
      "cell_type": "code",
      "source": [
        "print(df_all)"
      ],
      "metadata": {
        "colab": {
          "base_uri": "https://localhost:8080/"
        },
        "id": "S9IzCk7R1ZjT",
        "outputId": "fad1757f-285a-493c-b7f7-b47c9a8727f6"
      },
      "execution_count": null,
      "outputs": [
        {
          "output_type": "stream",
          "name": "stdout",
          "text": [
            "   這份數據分析報告顯示一個包含100筆遊戲資料的數據框架，其欄位包含遊戲名稱、原價(美元)、折扣率(%)、折後價(美元)和好評率(%)。\n",
            "0                                         **數據特徵分析：**                 \n",
            "1                  * **遊戲名稱:**  共有100種不同的遊戲，每個遊戲名稱唯一。                 \n",
            "2   * **原價(美元):**  共有99個不同的價格，其中58.76美元出現兩次，是出現頻率最...                 \n",
            "3   * **折扣率(%):**  只有10個不同的折扣率，其中70%折扣出現了16次，為最常見的...                 \n",
            "4   * **折後價(美元):** 共有98個不同的折後價，其中14.11美元出現兩次，為出現頻率...                 \n",
            "5   * **好評率(%):** 共有91個不同的好評率，其中68.9%出現兩次，為出現頻率最高的評價。                 \n",
            "6                                         **數據品質分析：**                 \n",
            "7                     * **缺失值:**  所有欄位都沒有缺失值，數據完整性良好。                 \n",
            "8   * **目標變量('target_column'):**  數據中不存在目標變量('targ...                 \n",
            "9                                           **整體結論：**                 \n",
            "10  該數據集描述了100款遊戲的價格和好評率信息，折扣率相對集中，暗示著可能存在一些設定好的折扣...                 \n"
          ]
        }
      ]
    },
    {
      "cell_type": "code",
      "source": [
        "# 選擇要更新的工作表（選擇第一個工作表）\n",
        "worksheet_allcommand = gsheets.get_worksheet(1)\n",
        "# 將 DataFrame 寫入 Google Sheets\n",
        "set_with_dataframe(worksheet_allcommand, df_all)"
      ],
      "metadata": {
        "id": "n5sDP71Y1jDy"
      },
      "execution_count": null,
      "outputs": []
    }
  ]
}